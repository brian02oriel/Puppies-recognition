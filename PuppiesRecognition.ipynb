{
 "cells": [
  {
   "cell_type": "code",
   "execution_count": 1,
   "metadata": {
    "colab": {},
    "colab_type": "code",
    "id": "hPKR6_ywOciE"
   },
   "outputs": [],
   "source": [
    "from os import listdir\n",
    "from os.path import isfile, join\n",
    "\n",
    "import cv2\n",
    "import numpy as np\n",
    "from matplotlib import pyplot as plt\n",
    "from sklearn import svm\n",
    "from sklearn.model_selection import StratifiedShuffleSplit, train_test_split"
   ]
  },
  {
   "cell_type": "code",
   "execution_count": 2,
   "metadata": {
    "colab": {},
    "colab_type": "code",
    "id": "xUvwPhvVQ-Zo"
   },
   "outputs": [],
   "source": [
    "def setting_dataset(data_path, class_name):\n",
    "    Data_Set, Labels = [], []\n",
    "    onlyfiles = [f for f in listdir(data_path) if isfile(join(data_path, f))]\n",
    "    hog = cv2.HOGDescriptor()\n",
    "\n",
    "    for i, files in enumerate(onlyfiles):\n",
    "        image_path = data_path + onlyfiles[i]\n",
    "        images = cv2.imread(image_path)\n",
    "        images = cv2.resize(images, (360, 480))\n",
    "        #print('channels: ', len(images.shape))\n",
    "        gray = cv2.cvtColor(images, cv2.COLOR_BGR2GRAY)\n",
    "        #print(i)\n",
    "        #print(onlyfiles[i])\n",
    "\n",
    "        hog_feats = hog.compute(images)\n",
    "        #print(hog_feats.shape)\n",
    "        Data_Set.append(hog_feats)\n",
    "        Labels.append(class_name)\n",
    "    print(\"Process completed\")\n",
    "\n",
    "    #print(len(features))\n",
    "    return Data_Set, Labels"
   ]
  },
  {
   "cell_type": "code",
   "execution_count": 4,
   "metadata": {
    "colab": {
     "base_uri": "https://localhost:8080/",
     "height": 34
    },
    "colab_type": "code",
    "id": "BJnEZhAyRZIZ",
    "outputId": "cf8bdfdc-25da-4718-df32-ceb78927f4c6"
   },
   "outputs": [
    {
     "name": "stdout",
     "output_type": "stream",
     "text": [
      "Process completed\n"
     ]
    }
   ],
   "source": [
    "data_path_1 = './n02085620-Chihuahua/'\n",
    "\n",
    "class1_features, class1_labels = setting_dataset(data_path_1, 1.0)"
   ]
  },
  {
   "cell_type": "code",
   "execution_count": 4,
   "metadata": {
    "colab": {
     "base_uri": "https://localhost:8080/",
     "height": 34
    },
    "colab_type": "code",
    "id": "qQD6v9r0TNID",
    "outputId": "5f2e8b09-96e8-4036-a8c2-03299f574cc1"
   },
   "outputs": [
    {
     "name": "stdout",
     "output_type": "stream",
     "text": [
      "Process completed\n"
     ]
    }
   ],
   "source": [
    "data_path_2 = './n02085782-Japanese_spaniel/'\n",
    "\n",
    "class2_features, class2_labels = setting_dataset(data_path_2, 2.0)"
   ]
  },
  {
   "cell_type": "code",
   "execution_count": 5,
   "metadata": {
    "colab": {},
    "colab_type": "code",
    "id": "SDgBwOn4UpTq"
   },
   "outputs": [
    {
     "ename": "NameError",
     "evalue": "name 'class2_features' is not defined",
     "output_type": "error",
     "traceback": [
      "\u001b[0;31m---------------------------------------------------------------------------\u001b[0m",
      "\u001b[0;31mNameError\u001b[0m                                 Traceback (most recent call last)",
      "\u001b[0;32m<ipython-input-5-bc0f2ed779e9>\u001b[0m in \u001b[0;36m<module>\u001b[0;34m\u001b[0m\n\u001b[0;32m----> 1\u001b[0;31m \u001b[0mX\u001b[0m \u001b[0;34m=\u001b[0m \u001b[0mclass1_features\u001b[0m \u001b[0;34m+\u001b[0m \u001b[0mclass2_features\u001b[0m\u001b[0;34m\u001b[0m\u001b[0;34m\u001b[0m\u001b[0m\n\u001b[0m\u001b[1;32m      2\u001b[0m \u001b[0my\u001b[0m \u001b[0;34m=\u001b[0m \u001b[0mclass1_labels\u001b[0m \u001b[0;34m+\u001b[0m \u001b[0mclass2_labels\u001b[0m\u001b[0;34m\u001b[0m\u001b[0;34m\u001b[0m\u001b[0m\n\u001b[1;32m      3\u001b[0m \u001b[0mX\u001b[0m \u001b[0;34m=\u001b[0m \u001b[0mnp\u001b[0m\u001b[0;34m.\u001b[0m\u001b[0masarray\u001b[0m\u001b[0;34m(\u001b[0m\u001b[0mX\u001b[0m\u001b[0;34m)\u001b[0m\u001b[0;34m\u001b[0m\u001b[0;34m\u001b[0m\u001b[0m\n\u001b[1;32m      4\u001b[0m \u001b[0my\u001b[0m \u001b[0;34m=\u001b[0m \u001b[0mnp\u001b[0m\u001b[0;34m.\u001b[0m\u001b[0masarray\u001b[0m\u001b[0;34m(\u001b[0m\u001b[0my\u001b[0m\u001b[0;34m)\u001b[0m\u001b[0;34m\u001b[0m\u001b[0;34m\u001b[0m\u001b[0m\n\u001b[1;32m      5\u001b[0m \u001b[0;34m\u001b[0m\u001b[0m\n",
      "\u001b[0;31mNameError\u001b[0m: name 'class2_features' is not defined"
     ]
    }
   ],
   "source": [
    "X = class1_features + class2_features\n",
    "y = class1_labels + class2_labels\n",
    "X = np.asarray(X)\n",
    "y = np.asarray(y)\n",
    "\n",
    "print(\"len: {0} | shape: {1}\".format(len(X), X.shape))\n",
    "print(\"len: {0} | shape: {1}\".format(len(y), y.shape))"
   ]
  },
  {
   "cell_type": "code",
   "execution_count": null,
   "metadata": {},
   "outputs": [],
   "source": []
  }
 ],
 "metadata": {
  "colab": {
   "name": "PuppiesRecognition.ipynb",
   "provenance": []
  },
  "kernelspec": {
   "display_name": "Python 3",
   "language": "python",
   "name": "python3"
  },
  "language_info": {
   "codemirror_mode": {
    "name": "ipython",
    "version": 3
   },
   "file_extension": ".py",
   "mimetype": "text/x-python",
   "name": "python",
   "nbconvert_exporter": "python",
   "pygments_lexer": "ipython3",
   "version": "3.6.9"
  }
 },
 "nbformat": 4,
 "nbformat_minor": 1
}
